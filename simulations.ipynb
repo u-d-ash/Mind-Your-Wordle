{
 "cells": [
  {
   "cell_type": "code",
   "execution_count": 6,
   "metadata": {},
   "outputs": [],
   "source": [
    "from glob_vars import *\n",
    "from functions import *\n",
    "from gameclass import *\n",
    "from tqdm import tqdm"
   ]
  },
  {
   "cell_type": "markdown",
   "metadata": {},
   "source": [
    "#### Optimal Start Word\n",
    "\n",
    "**Max-Min Algorithm**"
   ]
  },
  {
   "cell_type": "code",
   "execution_count": 3,
   "metadata": {},
   "outputs": [
    {
     "name": "stdout",
     "output_type": "stream",
     "text": [
      "arise | (167)\n",
      "raise | (167)\n",
      "aesir | (167)\n",
      "reais | (167)\n",
      "serai | (167)\n",
      "aiery | (170)\n",
      "ayrie | (170)\n",
      "aloes | (172)\n",
      "ariel | (173)\n",
      "raile | (173)\n"
     ]
    }
   ],
   "source": [
    "opt_moves = max_min_algo(init_guess_space, init_sol_space)\n",
    "\n",
    "for x in range(10):\n",
    "\n",
    "    print(f\"{opt_moves[x][1][1]} | ({round(opt_moves[x][0], 7)})\")\n"
   ]
  },
  {
   "cell_type": "markdown",
   "metadata": {},
   "source": [
    "**Average Split Algorithm**"
   ]
  },
  {
   "cell_type": "code",
   "execution_count": 4,
   "metadata": {},
   "outputs": [
    {
     "name": "stdout",
     "output_type": "stream",
     "text": [
      "roate | (60.1320918)\n",
      "raise | (60.7444781)\n",
      "raile | (61.1940234)\n",
      "soare | (62.0584669)\n",
      "arise | (63.4686011)\n",
      "irate | (63.4919879)\n",
      "orate | (63.6132525)\n",
      "ariel | (65.1888263)\n",
      "arose | (65.7596362)\n",
      "raine | (66.9307059)\n"
     ]
    }
   ],
   "source": [
    "opt_moves = avg_split_algo(init_guess_space, init_sol_space)\n",
    "\n",
    "for x in range(10):\n",
    "\n",
    "    print(f\"{opt_moves[x][1][1]} | ({round(opt_moves[x][0], 7)})\")"
   ]
  },
  {
   "cell_type": "markdown",
   "metadata": {},
   "source": [
    "### Simulations\n",
    "\n",
    "#### Hard-Mode\n",
    "**Min-Max Algorithm**"
   ]
  },
  {
   "cell_type": "code",
   "execution_count": 7,
   "metadata": {},
   "outputs": [
    {
     "name": "stderr",
     "output_type": "stream",
     "text": [
      "100%|██████████| 2309/2309 [09:52<00:00,  3.89it/s]"
     ]
    },
    {
     "name": "stdout",
     "output_type": "stream",
     "text": [
      "Failed Words:\n",
      "['graze', 'homer', 'mover', 'power', 'shave', 'swore', 'taunt', 'vaunt', 'waste', 'watch', 'water', 'willy', 'wound']\n",
      "Success Rate : 99.437%\n",
      "Average Moves in Successful Games : 3.658\n"
     ]
    },
    {
     "name": "stderr",
     "output_type": "stream",
     "text": [
      "\n"
     ]
    }
   ],
   "source": [
    "succ_games = 0\n",
    "failed_words = []\n",
    "total_moves = 0\n",
    "for soln in tqdm(init_sol_space):\n",
    "\n",
    "    the_game = game(ind_to_word[soln], 1, 0)\n",
    "    moves = the_game.simulate(\"raise\")\n",
    "\n",
    "    succ_games += (moves <= 6)\n",
    "    if(moves <= 6):\n",
    "        total_moves += moves\n",
    "    else:\n",
    "        failed_words.append(ind_to_word[soln])\n",
    "\n",
    "print(\"Failed Words:\")\n",
    "print(failed_words)\n",
    "\n",
    "print(f\"Success Rate : {round(succ_games/len(init_sol_space) * 100, 3)}%\")\n",
    "print(f\"Average Moves in Successful Games : {round(total_moves/succ_games, 3)}\")"
   ]
  },
  {
   "cell_type": "markdown",
   "metadata": {},
   "source": [
    "**Average Split Algorithm**"
   ]
  },
  {
   "cell_type": "code",
   "execution_count": 8,
   "metadata": {},
   "outputs": [
    {
     "name": "stderr",
     "output_type": "stream",
     "text": [
      "100%|██████████| 2309/2309 [10:21<00:00,  3.71it/s]"
     ]
    },
    {
     "name": "stdout",
     "output_type": "stream",
     "text": [
      "Failed Words:\n",
      "['corer', 'eater', 'graze', 'hatch', 'jaunt', 'mover', 'pound', 'power', 'shave', 'swore', 'taste', 'vaunt', 'watch', 'willy', 'wound']\n",
      "Success Rate : 99.35%\n",
      "Average Moves in Successful Games : 3.637\n"
     ]
    },
    {
     "name": "stderr",
     "output_type": "stream",
     "text": [
      "\n"
     ]
    }
   ],
   "source": [
    "succ_games = 0\n",
    "failed_words = []\n",
    "total_moves = 0\n",
    "for soln in tqdm(init_sol_space):\n",
    "\n",
    "    the_game = game(ind_to_word[soln], 1, 1)\n",
    "    moves = the_game.simulate(\"raise\")\n",
    "\n",
    "    succ_games += (moves <= 6)\n",
    "    if(moves <= 6):\n",
    "        total_moves += moves\n",
    "    else:\n",
    "        failed_words.append(ind_to_word[soln])\n",
    "\n",
    "print(\"Failed Words:\")\n",
    "print(failed_words)\n",
    "\n",
    "print(f\"Success Rate : {round(succ_games/len(init_sol_space) * 100, 3)}%\")\n",
    "print(f\"Average Moves in Successful Games : {round(total_moves/succ_games, 3)}\")"
   ]
  }
 ],
 "metadata": {
  "kernelspec": {
   "display_name": "base",
   "language": "python",
   "name": "python3"
  },
  "language_info": {
   "codemirror_mode": {
    "name": "ipython",
    "version": 3
   },
   "file_extension": ".py",
   "mimetype": "text/x-python",
   "name": "python",
   "nbconvert_exporter": "python",
   "pygments_lexer": "ipython3",
   "version": "3.10.9"
  }
 },
 "nbformat": 4,
 "nbformat_minor": 2
}
